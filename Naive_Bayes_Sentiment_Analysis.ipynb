{
 "cells": [
  {
   "cell_type": "markdown",
   "metadata": {},
   "source": [
    "# COMP442 ASSIGNMENT 1"
   ]
  },
  {
   "cell_type": "code",
   "execution_count": 1,
   "metadata": {},
   "outputs": [
    {
     "data": {
      "text/plain": [
       "2"
      ]
     },
     "execution_count": 1,
     "metadata": {},
     "output_type": "execute_result"
    }
   ],
   "source": [
    "senlen = 80#65 70 75\n",
    "freqth = 100\n",
    "cdictP = Dict()\n",
    "cdictN = Dict()\n",
    "wdict = Dict()\n",
    "cdict = Dict()\n",
    "w2i(x)= get!(wdict,x,1+length(wdict))\n",
    "countN(x) =cdictN[x] = get(cdictN,x,0)+1\n",
    "countP(x) =cdictP[x] = get(cdictP,x,0)+1\n",
    "NLTKSTOPWORDS=[\"ourselves\", \"hers\", \"between\", \"yourself\", \"but\", \"again\", \"there\", \"about\", \"once\", \"during\", \"out\", \"very\", \"having\", \"with\", \"they\", \"own\", \"an\", \"be\", \"some\", \"for\", \"do\", \"its\", \"yours\", \"such\", \"into\", \"of\", \"most\", \"itself\", \"other\", \"off\", \"is\", \"s\", \"am\", \"or\", \"who\", \"as\", \"from\", \"him\", \"each\", \"the\", \"themselves\", \"until\", \"below\", \"are\", \"we\", \"these\", \"your\", \"his\", \"through\", \"don\", \"nor\", \"me\", \"were\", \"her\", \"more\", \"himself\", \"this\", \"down\", \"should\", \"our\", \"their\", \"while\", \"above\", \"both\", \"up\", \"to\", \"ours\", \"had\", \"she\", \"all\", \"no\", \"when\", \"at\", \"any\", \"before\", \"them\", \"same\", \"and\", \"been\", \"have\", \"in\", \"will\", \"on\", \"does\", \"yourselves\", \"then\", \"that\", \"because\", \"what\", \"over\", \"why\", \"so\", \"can\", \"did\", \"not\", \"now\", \"under\", \"he\", \"you\", \"herself\", \"has\", \"just\", \"where\", \"too\", \"only\", \"myself\", \"which\", \"those\", \"i\", \"after\", \"few\", \"whom\", \"t\", \"being\", \"if\", \"theirs\", \"my\", \"against\", \"a\", \"by\", \"doing\", \"it\", \"how\", \"further\", \"was\", \"here\", \"than\"]\n",
    "UNK = w2i(\"<unk>\")\n",
    "PAD = w2i(\"pad\")\n"
   ]
  },
  {
   "cell_type": "code",
   "execution_count": 2,
   "metadata": {},
   "outputs": [],
   "source": [
    "#prepare negative train data & collect statiscts\n",
    "train = []\n",
    "\n",
    "\n",
    "train_neg= cd(readdir, \"/home/burak/julia-1.0.1/Julia Work/aclImdb_v1/aclImdb/train/neg\")\n",
    "for f in train_neg  \n",
    "    data = []\n",
    "    open(\"/home/burak/julia-1.0.1/Julia Work/aclImdb_v1/aclImdb/train/neg/\"*f,\"r\") do fi\n",
    "        for line in eachline(fi)\n",
    "            push!(data,line)\n",
    "        end\n",
    "\n",
    "        wordids = data[1]\n",
    "        wordids = replace(wordids,r\"[^a-zA-Z_]\" => \" \")\n",
    "        wordids =  (lowercase.(split(wordids)))\n",
    "        wordids=filter!(x -> !(x in NLTKSTOPWORDS), wordids)\n",
    "        \n",
    "        \n",
    "        \n",
    "    if(length(wordids)>senlen)\n",
    "            wordids = wordids[1:senlen]\n",
    "        end\n",
    "    while(length(wordids)<senlen)\n",
    "        push!(wordids,\"pad\")\n",
    "        end\n",
    "    wordids = w2i.(wordids)\n",
    "    countN.(wordids)\n",
    "    push!(train,(wordids,0))\n",
    "    end\n",
    "\n",
    "end"
   ]
  },
  {
   "cell_type": "code",
   "execution_count": 4,
   "metadata": {},
   "outputs": [],
   "source": [
    "#prepare positive train data & collect statiscts\n",
    "\n",
    "\n",
    "\n",
    "train_pos= cd(readdir, \"/home/burak/julia-1.0.1/Julia Work/aclImdb_v1/aclImdb/train/pos\")\n",
    "for f in train_pos  \n",
    "    data = []\n",
    "    open(\"/home/burak/julia-1.0.1/Julia Work/aclImdb_v1/aclImdb/train/pos/\"*f,\"r\") do fi\n",
    "        for line in eachline(fi)\n",
    "            \n",
    "            push!(data,line)\n",
    "        end\n",
    "        wordids = data[1]\n",
    "        wordids = replace(wordids,r\"[^a-zA-Z_]\" => \" \")\n",
    "        wordids =  (lowercase.(split(wordids)))\n",
    "        wordids=filter!(x -> !(x in NLTKSTOPWORDS), wordids)\n",
    "        \n",
    "        \n",
    "        if(length(wordids)> senlen)\n",
    "            wordids = wordids[1:senlen]\n",
    "        end\n",
    "        while(length(wordids)<senlen)\n",
    "        push!(wordids,\"pad\")\n",
    "        end\n",
    "        wordids = w2i.(wordids)\n",
    "        countP.(wordids)\n",
    "        push!(train,(wordids,1))   \n",
    "        end\n",
    "\n",
    "end\n"
   ]
  },
  {
   "cell_type": "code",
   "execution_count": 5,
   "metadata": {},
   "outputs": [
    {
     "data": {
      "text/plain": [
       "23.911432055665813"
      ]
     },
     "execution_count": 5,
     "metadata": {},
     "output_type": "execute_result"
    }
   ],
   "source": [
    "uniqueposwords = length(cdictP)\n",
    "uniquenegwords = length(cdictN)\n",
    "nposwords = sum(values(cdictP))\n",
    "nnegwords = sum(values(cdictN))\n",
    "nnegwords/length(cdictN)"
   ]
  },
  {
   "cell_type": "code",
   "execution_count": 6,
   "metadata": {},
   "outputs": [
    {
     "data": {
      "text/plain": [
       "w2i (generic function with 1 method)"
      ]
     },
     "execution_count": 6,
     "metadata": {},
     "output_type": "execute_result"
    }
   ],
   "source": [
    "getcdictP(x) = get(cdictP, x, 0)     # unk if not found\n",
    "getcdictN(x) = get(cdictN, x, 0)     # unk if not found\n",
    "w2i(x) = get(wdict, x, 0)     # unk if not found\n"
   ]
  },
  {
   "cell_type": "code",
   "execution_count": 7,
   "metadata": {},
   "outputs": [
    {
     "data": {
      "text/plain": [
       "genProcessNeg (generic function with 1 method)"
      ]
     },
     "execution_count": 7,
     "metadata": {},
     "output_type": "execute_result"
    }
   ],
   "source": [
    "#probabilities\n",
    "#P(c):\n",
    "pPositive = 0.5\n",
    "pNegative = 0.5\n",
    "Ppos(x) =((getcdictP(x)+10)/(nposwords+uniqueposwords))\n",
    "Pneg(x) =((getcdictN(x)+10)/(nnegwords+uniquenegwords))\n",
    "genProcessPos(x) = prod(Ppos.(x))\n",
    "genProcessNeg(x) = prod(Pneg.(x))"
   ]
  },
  {
   "cell_type": "code",
   "execution_count": 8,
   "metadata": {},
   "outputs": [
    {
     "data": {
      "text/plain": [
       "21695"
      ]
     },
     "execution_count": 8,
     "metadata": {},
     "output_type": "execute_result"
    }
   ],
   "source": [
    "##\n",
    "countz = 0\n",
    "for i=1:12500\n",
    "    if (genProcessNeg(train[i][1])>genProcessPos(train[i][1]))\n",
    "     countz = countz+1 \n",
    "    end\n",
    "end\n",
    "\n",
    "for i=12501:25000\n",
    "    if (genProcessNeg(train[i][1])<genProcessPos(train[i][1]))\n",
    "        countz = countz+1 \n",
    "    end\n",
    "end\n",
    "countz"
   ]
  },
  {
   "cell_type": "code",
   "execution_count": 9,
   "metadata": {},
   "outputs": [
    {
     "name": "stdout",
     "output_type": "stream",
     "text": [
      "Accuracy on train data 0.8678"
     ]
    }
   ],
   "source": [
    "print(\"Accuracy on train data \"*string(countz/25000))"
   ]
  },
  {
   "cell_type": "code",
   "execution_count": 10,
   "metadata": {},
   "outputs": [],
   "source": [
    "#prepare negative test data\n",
    "test = []\n",
    "\n",
    "\n",
    "test_neg= cd(readdir, \"/home/burak/julia-1.0.1/Julia Work/aclImdb_v1/aclImdb/test/neg\")\n",
    "for f in test_neg  \n",
    "    data = []\n",
    "    open(\"/home/burak/julia-1.0.1/Julia Work/aclImdb_v1/aclImdb/test/neg/\"*f,\"r\") do fi\n",
    "        for line in eachline(fi)\n",
    "            push!(data,line)\n",
    "        end\n",
    "        wordids= data[1]\n",
    "        wordids = replace(wordids,r\"[^a-zA-Z_]\" => \" \")\n",
    "        wordids =  (lowercase.(split(wordids)))\n",
    "        wordids=filter!(x -> !(x in NLTKSTOPWORDS), wordids)\n",
    "        if(length(wordids)> senlen)\n",
    "            wordids = wordids[1:senlen]\n",
    "        end\n",
    "        while(length(wordids)<senlen)\n",
    "        push!(wordids,\"pad\")\n",
    "        end\n",
    "        wordids = w2i.(wordids)\n",
    "        push!(test,(wordids,0))    \n",
    "    end\n",
    "\n",
    "end\n",
    "\n",
    "#prepare positive test data \n",
    "test_pos= cd(readdir, \"/home/burak/julia-1.0.1/Julia Work/aclImdb_v1/aclImdb/test/pos\")\n",
    "for f in test_pos  \n",
    "    data = []\n",
    "    open(\"/home/burak/julia-1.0.1/Julia Work/aclImdb_v1/aclImdb/test/pos/\"*f,\"r\") do fi\n",
    "        for line in eachline(fi)\n",
    "            push!(data,line)\n",
    "        end\n",
    "        wordids= data[1]\n",
    "        wordids = replace(wordids,r\"[^a-zA-Z_]\" => \" \")\n",
    "        wordids =  (lowercase.(split(wordids)))\n",
    "        wordids=filter!(x -> !(x in NLTKSTOPWORDS), wordids)\n",
    "        if(length(wordids)> senlen)\n",
    "            wordids = wordids[1:senlen]\n",
    "        end\n",
    "        while(length(wordids)<senlen)\n",
    "        push!(wordids,\"pad\")\n",
    "        end\n",
    "        \n",
    "    wordids = w2i.(wordids)\n",
    "    push!(test,(wordids,1))   \n",
    "    end\n",
    "\n",
    "end\n",
    "\n",
    "    "
   ]
  },
  {
   "cell_type": "code",
   "execution_count": 11,
   "metadata": {},
   "outputs": [
    {
     "data": {
      "text/plain": [
       "20030"
      ]
     },
     "execution_count": 11,
     "metadata": {},
     "output_type": "execute_result"
    }
   ],
   "source": [
    "#predcit over test set\n",
    "countz = 0\n",
    "for i=1:12500\n",
    "    if (genProcessNeg(test[i][1])>genProcessPos(test[i][1]))\n",
    "     countz = countz+1 \n",
    "    end\n",
    "end\n",
    "\n",
    "for i=12501:25000\n",
    "    if (genProcessNeg(test[i][1])<genProcessPos(test[i][1]))\n",
    "        countz = countz+1 \n",
    "    end\n",
    "end\n",
    "countz"
   ]
  },
  {
   "cell_type": "code",
   "execution_count": 12,
   "metadata": {},
   "outputs": [
    {
     "name": "stdout",
     "output_type": "stream",
     "text": [
      "Accuracy on train data 0.8012"
     ]
    }
   ],
   "source": [
    "print(\"Accuracy on train data \"*string(countz/25000))"
   ]
  }
 ],
 "metadata": {
  "kernelspec": {
   "display_name": "Julia 1.0.1",
   "language": "julia",
   "name": "julia-1.0"
  },
  "language_info": {
   "file_extension": ".jl",
   "mimetype": "application/julia",
   "name": "julia",
   "version": "1.0.1"
  }
 },
 "nbformat": 4,
 "nbformat_minor": 2
}
