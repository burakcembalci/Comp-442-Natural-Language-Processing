{
 "cells": [
  {
   "cell_type": "markdown",
   "metadata": {},
   "source": [
    "# COMP442 ASSIGNMENT 1"
   ]
  },
  {
   "cell_type": "code",
   "execution_count": 1,
   "metadata": {
    "scrolled": false
   },
   "outputs": [
    {
     "ename": "ArgumentError",
     "evalue": "ArgumentError: Package Iterators not found in current path:\n- Run `import Pkg; Pkg.add(\"Iterators\")` to install the Iterators package.\n",
     "output_type": "error",
     "traceback": [
      "ArgumentError: Package Iterators not found in current path:\n- Run `import Pkg; Pkg.add(\"Iterators\")` to install the Iterators package.\n",
      "",
      "Stacktrace:",
      " [1] require(::Module, ::Symbol) at ./loading.jl:820",
      " [2] top-level scope at In[1]:6"
     ]
    }
   ],
   "source": [
    "#imports\n",
    "using Pkg; for p in (\"Knet\",\"IterTools\"); haskey(Pkg.installed(),p) || Pkg.add(p); end\n",
    "using Statistics: mean\n",
    "using IterTools: ncycle\n",
    "using WordTokenizers\n",
    "using Iterators"
   ]
  },
  {
   "cell_type": "code",
   "execution_count": 2,
   "metadata": {},
   "outputs": [
    {
     "data": {
      "text/plain": [
       "2"
      ]
     },
     "execution_count": 2,
     "metadata": {},
     "output_type": "execute_result"
    }
   ],
   "source": [
    "cdictP = Dict()\n",
    "cdictN = Dict()\n",
    "wdict = Dict()\n",
    "cdict = Dict()\n",
    "w2i(x)= get!(wdict,x,1+length(wdict))\n",
    "countN(x) =cdictN[x] = get(cdictN,x,0)+1\n",
    "countP(x) =cdictP[x] = get(cdictP,x,0)+1\n",
    "\n",
    "UNK = w2i(\"<unk>\")\n",
    "PAD = w2i(\"Burkipad\")\n"
   ]
  },
  {
   "cell_type": "code",
   "execution_count": 3,
   "metadata": {},
   "outputs": [],
   "source": [
    "#train Neg\n",
    "train = []\n",
    "\n",
    "\n",
    "train_neg= cd(readdir, \"/home/burak/julia-1.0.1/Julia Work/aclImdb_v1/aclImdb/train/neg\")\n",
    "for f in train_neg  \n",
    "    data = []\n",
    "    open(\"/home/burak/julia-1.0.1/Julia Work/aclImdb_v1/aclImdb/train/neg/\"*f,\"r\") do fi\n",
    "        for line in eachline(fi)\n",
    "            push!(data,line)\n",
    "        end\n",
    "#            wordids = lowercase.(split(filter(s->contains(),filter(s->!ispunct(s), data[1]))))\n",
    "\n",
    "    #wordids = (lowercase.(tokenize(replace(data[1],\".\"=>\"\"))))\n",
    "\n",
    "        wordids = (replace(data[1],['#','@','\\n','!','?',')','(','{','}','>','<','_']=>\"\"))\n",
    "        wordids = replace(wordids,['.']=>\" .\")\n",
    "        wordids = replace(wordids,[',']=> \" ,\")\n",
    "       wordids =  (lowercase.(split(wordids)))\n",
    "    if(length(wordids)> 150)\n",
    "            wordids = wordids[1:150]\n",
    "        end\n",
    "    while(length(wordids)<150)\n",
    "        push!(wordids,\"Burkipad\")\n",
    "        end\n",
    "    wordids = w2i.(wordids)\n",
    "    countN.(wordids)\n",
    "    push!(train,(wordids,0))\n",
    "    end\n",
    "\n",
    "end"
   ]
  },
  {
   "cell_type": "code",
   "execution_count": 4,
   "metadata": {},
   "outputs": [],
   "source": [
    "#train Pos\n",
    "\n",
    "\n",
    "\n",
    "train_pos= cd(readdir, \"/home/burak/julia-1.0.1/Julia Work/aclImdb_v1/aclImdb/train/pos\")\n",
    "for f in train_pos  \n",
    "    data = []\n",
    "    open(\"/home/burak/julia-1.0.1/Julia Work/aclImdb_v1/aclImdb/train/pos/\"*f,\"r\") do fi\n",
    "        for line in eachline(fi)\n",
    "            \n",
    "            push!(data,line)\n",
    "        end\n",
    "    #wordids = (lowercase.(tokenize(replace(data[1],\".\"=>\"\"))))\n",
    "        #wordids =(lowercase.(split(replace(data[1],['#','@','\\n',',','.','!','?',')','(','{','}','>','<']=>\"\"))))\n",
    "    #wordids = (lowercase.(split(filter(s->!ispunct(s), data[1]))))\n",
    " wordids = (replace(data[1],['#','@','\\n','!','?',')','(','{','}','>','<','_']=>\"\"))\n",
    "        wordids = replace(wordids,['.']=>\" .\")\n",
    "        wordids = replace(wordids,[',']=> \" ,\")\n",
    "       wordids =  (lowercase.(split(wordids)))\n",
    "        if(length(wordids)> 150)\n",
    "            wordids = wordids[1:150]\n",
    "        end\n",
    "        while(length(wordids)<150)\n",
    "        push!(wordids,\"Burkipad\")\n",
    "        end\n",
    "    wordids = w2i.(wordids)\n",
    "    countP.(wordids)\n",
    "    push!(train,(wordids,0))   \n",
    "    end\n",
    "\n",
    "end\n"
   ]
  },
  {
   "cell_type": "code",
   "execution_count": 5,
   "metadata": {},
   "outputs": [
    {
     "data": {
      "text/plain": [
       "28.018529587567244"
      ]
     },
     "execution_count": 5,
     "metadata": {},
     "output_type": "execute_result"
    }
   ],
   "source": [
    "nposwords = sum(values(cdictP))\n",
    "nnegwords = sum(values(cdictN))\n",
    "nnegwords/length(cdictN)"
   ]
  },
  {
   "cell_type": "code",
   "execution_count": 6,
   "metadata": {},
   "outputs": [
    {
     "data": {
      "text/plain": [
       "25000"
      ]
     },
     "execution_count": 6,
     "metadata": {},
     "output_type": "execute_result"
    }
   ],
   "source": [
    "length(train)"
   ]
  },
  {
   "cell_type": "code",
   "execution_count": 7,
   "metadata": {},
   "outputs": [],
   "source": [
    "#Frequency threshold 40 otherwise add values to UNK"
   ]
  },
  {
   "cell_type": "code",
   "execution_count": 7,
   "metadata": {},
   "outputs": [
    {
     "data": {
      "text/plain": [
       "100"
      ]
     },
     "execution_count": 7,
     "metadata": {},
     "output_type": "execute_result"
    }
   ],
   "source": [
    "th = 100"
   ]
  },
  {
   "cell_type": "code",
   "execution_count": 8,
   "metadata": {},
   "outputs": [],
   "source": [
    "cdictP[1]=th\n",
    "for i in collect(keys(cdictP))\n",
    "    if(cdictP[i]<th)\n",
    "        cdictP[1]=cdictP[1] +cdictP[i]\n",
    "        delete!(cdictP,i)\n",
    "    end\n",
    "end"
   ]
  },
  {
   "cell_type": "code",
   "execution_count": 9,
   "metadata": {},
   "outputs": [],
   "source": [
    "cdictN[1]=th\n",
    "for i in collect(keys(cdictN))\n",
    "    if(cdictN[i]<th)\n",
    "        cdictN[1]=cdictN[1] +cdictN[i]\n",
    "        delete!(cdictN,i)\n",
    "    end\n",
    "end"
   ]
  },
  {
   "cell_type": "code",
   "execution_count": 36,
   "metadata": {},
   "outputs": [],
   "source": [
    "#Return the value of UNK if not found"
   ]
  },
  {
   "cell_type": "code",
   "execution_count": 10,
   "metadata": {},
   "outputs": [
    {
     "data": {
      "text/plain": [
       "w2i (generic function with 1 method)"
      ]
     },
     "execution_count": 10,
     "metadata": {},
     "output_type": "execute_result"
    }
   ],
   "source": [
    "getcdictP(x) = get(cdictP, x, cdictP[1]-th)     # unk if not found\n",
    "getcdictN(x) = get(cdictN, x, cdictN[1]-th)     # unk if not found\n",
    "w2i(x) = get(wdict, x, UNK)     # unk if not found\n"
   ]
  },
  {
   "cell_type": "code",
   "execution_count": 11,
   "metadata": {},
   "outputs": [
    {
     "data": {
      "text/plain": [
       "genProcessNeg (generic function with 1 method)"
      ]
     },
     "execution_count": 11,
     "metadata": {},
     "output_type": "execute_result"
    }
   ],
   "source": [
    "#probabilities\n",
    "#P(c):\n",
    "pPositive = 0.5\n",
    "pNegative = 0.5\n",
    "Ppos(x) =((getcdictP(x))/(nposwords))\n",
    "Pneg(x) =((getcdictN(x))/(nnegwords))\n",
    "genProcessPos(x) = pPositive*prod(log.(Ppos.(x)))\n",
    "genProcessNeg(x) = pNegative*prod(log.(Pneg.(x)))"
   ]
  },
  {
   "cell_type": "code",
   "execution_count": 12,
   "metadata": {},
   "outputs": [
    {
     "data": {
      "text/plain": [
       "5070"
      ]
     },
     "execution_count": 12,
     "metadata": {},
     "output_type": "execute_result"
    }
   ],
   "source": [
    "count = 0\n",
    "for i=1:12500\n",
    "    if (genProcessNeg(train[i][1])>genProcessPos(train[i][1]))\n",
    "     count = count+1 \n",
    "    end\n",
    "end\n",
    "\n",
    "for i=12501:25000\n",
    "    if (genProcessNeg(train[i][1])<genProcessPos(train[i][1]))\n",
    "        count = count+1 \n",
    "    end\n",
    "end\n",
    "count"
   ]
  },
  {
   "cell_type": "code",
   "execution_count": 13,
   "metadata": {},
   "outputs": [
    {
     "data": {
      "text/plain": [
       "0.2028"
      ]
     },
     "execution_count": 13,
     "metadata": {},
     "output_type": "execute_result"
    }
   ],
   "source": [
    "count/25000"
   ]
  },
  {
   "cell_type": "code",
   "execution_count": 16,
   "metadata": {},
   "outputs": [],
   "source": [
    "#load dataset\n",
    "test = []\n",
    "#test Neg\n",
    "\n",
    "test_neg= cd(readdir, \"/home/burak/julia-1.0.1/Julia Work/aclImdb_v1/aclImdb/test/neg\")\n",
    "for f in test_neg  \n",
    "    data = []\n",
    "    open(\"/home/burak/julia-1.0.1/Julia Work/aclImdb_v1/aclImdb/test/neg/\"*f,\"r\") do fi\n",
    "        for line in eachline(fi)\n",
    "            push!(data,line)\n",
    "        end\n",
    "  wordids = (replace(data[1],['#','@','\\n','!','?',')','(','{','}','>','<','_']=>\"\"))\n",
    "        wordids = replace(wordids,['.']=>\" .\")\n",
    "        wordids = replace(wordids,[',']=> \" ,\")\n",
    "       wordids =  (lowercase.(split(wordids)))\n",
    "        if(length(wordids)> 150)\n",
    "            wordids = wordids[1:150]\n",
    "        end\n",
    "        while(length(wordids)<150)\n",
    "        push!(wordids,\"Burkipad\")\n",
    "        end\n",
    "    wordids = w2i.(wordids)\n",
    "    push!(test,(wordids,0))   \n",
    "    end\n",
    "\n",
    "end\n",
    "\n",
    "#test Pos\n",
    "test_pos= cd(readdir, \"/home/burak/julia-1.0.1/Julia Work/aclImdb_v1/aclImdb/test/pos\")\n",
    "for f in test_pos  \n",
    "    data = []\n",
    "    open(\"/home/burak/julia-1.0.1/Julia Work/aclImdb_v1/aclImdb/test/pos/\"*f,\"r\") do fi\n",
    "        for line in eachline(fi)\n",
    "            push!(data,line)\n",
    "        end\n",
    "        \n",
    "        \n",
    "        \n",
    "wordids = (replace(data[1],['#','@','\\n','!','?',')','(','{','}','>','<','_']=>\"\"))\n",
    "        wordids = replace(wordids,['.']=>\" .\")\n",
    "        wordids = replace(wordids,[',']=> \" ,\")\n",
    "       wordids =  (lowercase.(split(wordids)))\n",
    "        if(length(wordids)> 150)\n",
    "            wordids = wordids[1:150]\n",
    "        end\n",
    "        while(length(wordids)<150)\n",
    "        push!(wordids,\"Burkipad\")\n",
    "        end\n",
    "    wordids = w2i.(wordids)\n",
    "    push!(test,(wordids,1))   \n",
    "    end\n",
    "\n",
    "end\n",
    "\n",
    "    "
   ]
  },
  {
   "cell_type": "code",
   "execution_count": 17,
   "metadata": {},
   "outputs": [
    {
     "data": {
      "text/plain": [
       "16073"
      ]
     },
     "execution_count": 17,
     "metadata": {},
     "output_type": "execute_result"
    }
   ],
   "source": [
    "count = 0\n",
    "for i=1:12500\n",
    "    if (genProcessNeg(test[i][1])>genProcessPos(test[i][1]))\n",
    "     count = count+1 \n",
    "    end\n",
    "end\n",
    "\n",
    "for i=12501:25000\n",
    "    if (genProcessNeg(test[i][1])<genProcessPos(test[i][1]))\n",
    "        count = count+1 \n",
    "    end\n",
    "end\n",
    "count"
   ]
  },
  {
   "cell_type": "code",
   "execution_count": 18,
   "metadata": {},
   "outputs": [
    {
     "data": {
      "text/plain": [
       "0.64292"
      ]
     },
     "execution_count": 18,
     "metadata": {},
     "output_type": "execute_result"
    }
   ],
   "source": [
    "count/25000"
   ]
  },
  {
   "cell_type": "code",
   "execution_count": 26,
   "metadata": {},
   "outputs": [
    {
     "data": {
      "text/plain": [
       "w2i (generic function with 1 method)"
      ]
     },
     "execution_count": 26,
     "metadata": {},
     "output_type": "execute_result"
    }
   ],
   "source": [
    "getcdictP(x) = get(cdictP, x, 0)     # unk if not found# 50\n",
    "getcdictN(x) = get(cdictN, x,0)     # unk if not found\n",
    "w2i(x) = get(wdict, x, UNK)     # unk if not found\n",
    "#numUnkP = cdictP[1]-40\n",
    "#numUnkN = cdictN[1]-40"
   ]
  },
  {
   "cell_type": "code",
   "execution_count": 27,
   "metadata": {},
   "outputs": [
    {
     "data": {
      "text/plain": [
       "genProcessNeg (generic function with 1 method)"
      ]
     },
     "execution_count": 27,
     "metadata": {},
     "output_type": "execute_result"
    }
   ],
   "source": [
    "#probabilities\n",
    "#P(c):\n",
    "pPositive = 0.5\n",
    "pNegative = 0.5\n",
    "#P(wi|y)  number of occurance of wi with label y / number of all word with label y\n",
    "# with smoothing number of occurance of wi with label y + alpha / number of all words with label y  + numWord * alpha\n",
    "Ppos(x) =((getcdictP(x)+1)/(nposwords+length(cdictP)))\n",
    "Pneg(x) =((getcdictN(x)+1)/(nnegwords+length(cdictN)))\n",
    "genProcessPos(x) = pPositive*prod(log.(Ppos.(x)))\n",
    "genProcessNeg(x) = pNegative*prod(log.(Pneg.(x)))"
   ]
  },
  {
   "cell_type": "code",
   "execution_count": null,
   "metadata": {},
   "outputs": [],
   "source": [
    "#Neglecting the UNK"
   ]
  },
  {
   "cell_type": "code",
   "execution_count": null,
   "metadata": {},
   "outputs": [],
   "source": [
    "getcdictP(x) = get(cdictP, x, MathConstants.e*((nposwords)-numUnkP))     # unk if not found # 65\n",
    "getcdictN(x) = get(cdictN, x,MathConstants.e*((nnegwords)-numUnkN))     # unk if not found\n",
    "w2i(x) = get(wdict, x, UNK)     # unk if not found\n",
    "numUnkP = cdictP[1]-40\n",
    "numUnkN = cdictN[1]-40"
   ]
  },
  {
   "cell_type": "code",
   "execution_count": 51,
   "metadata": {},
   "outputs": [
    {
     "data": {
      "text/plain": [
       "genProcessNeg (generic function with 1 method)"
      ]
     },
     "execution_count": 51,
     "metadata": {},
     "output_type": "execute_result"
    }
   ],
   "source": [
    "#probabilities\n",
    "#P(c):\n",
    "pPositive = 0.5\n",
    "pNegative = 0.5\n",
    "#P(wi|y)  number of occurance of wi with label y / number of all word with label y\n",
    "# with smoothing number of occurance of wi with label y + alpha / number of all words with label y  + numWord * alpha\n",
    "Ppos(x) =((getcdictP(x))/((nposwords)-numUnkP))\n",
    "Pneg(x) =((getcdictN(x))/((nnegwords)-numUnkN))\n",
    "genProcessPos(x) = pPositive*prod(log.(Ppos.(x)))\n",
    "genProcessNeg(x) = pNegative*prod(log.(Pneg.(x)))"
   ]
  }
 ],
 "metadata": {
  "kernelspec": {
   "display_name": "Julia 1.0.1",
   "language": "julia",
   "name": "julia-1.0"
  },
  "language_info": {
   "file_extension": ".jl",
   "mimetype": "application/julia",
   "name": "julia",
   "version": "1.0.1"
  }
 },
 "nbformat": 4,
 "nbformat_minor": 2
}
